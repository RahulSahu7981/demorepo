{
 "cells": [
  {
   "cell_type": "markdown",
   "id": "333403d8",
   "metadata": {},
   "source": [
    "# Data Science Tools and Ecosystem"
   ]
  },
  {
   "cell_type": "markdown",
   "id": "08d131eb",
   "metadata": {},
   "source": [
    "In this notebook, Data Science Tools and Ecosystem are summarized."
   ]
  },
  {
   "cell_type": "markdown",
   "id": "91143f14",
   "metadata": {},
   "source": [
    "Some of the popular languages that Data Scientists use are:\n",
    "    1. Python\n",
    "    2. R\n",
    "    3. C++\n"
   ]
  },
  {
   "cell_type": "markdown",
   "id": "c235d3a6",
   "metadata": {},
   "source": [
    "Some of the commonly used libraries used by Data Scientists include:\n",
    "Data scientists commonly use several libraries for various tasks. Here are some of the commonly used libraries in the field of data science:\n",
    "\n",
    "1. NumPy: NumPy is a fundamental library for scientific computing in Python. It provides support for large, multi-dimensional arrays and matrices, along with a collection of mathematical functions to operate on these arrays efficiently.\n",
    "\n",
    "2. pandas: pandas is a powerful library for data manipulation and analysis. It provides data structures like DataFrames for handling structured data, along with tools for cleaning, transforming, and analyzing data.\n",
    "\n",
    "3. matplotlib: matplotlib is a popular data visualization library in Python. It offers a wide range of functions for creating static, animated, and interactive visualizations, including line plots, scatter plots, histograms, bar charts, and more.\n",
    "\n",
    "4. scikit-learn: scikit-learn is a machine learning library that provides a comprehensive set of tools for various tasks, such as classification, regression, clustering, dimensionality reduction, model selection, and preprocessing. It includes a wide range of algorithms and evaluation metrics.\n",
    "\n",
    "5. TensorFlow: TensorFlow is an open-source machine learning framework developed by Google. It focuses on building and training deep learning models, providing tools for neural networks, automatic differentiation, and distributed computing.\n",
    "\n",
    "6. Keras: Keras is a high-level neural networks API that runs on top of TensorFlow. It simplifies the process of building deep learning models by providing a user-friendly and intuitive interface. Keras is known for its simplicity and flexibility.\n",
    "\n",
    "7. PyTorch: PyTorch is another popular deep learning framework that offers dynamic computation graphs and a more imperative programming style. It has gained popularity for its ease of use and extensive support for research-oriented tasks.\n",
    "\n",
    "8. Seaborn: Seaborn is a data visualization library based on matplotlib. It provides a higher-level interface for creating attractive statistical graphics. Seaborn is particularly useful for visualizing statistical relationships in datasets.\n",
    "\n",
    "9. SciPy: SciPy is a library that builds on NumPy and provides additional numerical algorithms and tools for scientific computing. It includes modules for optimization, interpolation, linear algebra, signal processing, statistics, and more.\n",
    "\n",
    "10. Statsmodels: Statsmodels is a library that focuses on statistical modeling and econometrics. It provides a wide range of statistical models and methods for data analysis, including linear regression, time series analysis, hypothesis testing, and more.\n"
   ]
  },
  {
   "cell_type": "markdown",
   "id": "1a58caf0",
   "metadata": {},
   "source": [
    "| Data Science Tools   |\n",
    "|----------------------|\n",
    "| Jupyter Notebook     |\n",
    "| RStudio              |\n",
    "| Visual Studio Code   |"
   ]
  },
  {
   "cell_type": "markdown",
   "id": "87a2bcff",
   "metadata": {},
   "source": [
    "### Below are a few examples of evaluating arithmetic expressions in Python"
   ]
  },
  {
   "cell_type": "markdown",
   "id": "e84ca309",
   "metadata": {},
   "source": [
    "## Arithmetic Expression Examples\n",
    "\n",
    "In Python, you can easily evaluate arithmetic expressions using various operators and mathematical functions. Here are a few examples to demonstrate how to perform common arithmetic operations:\n",
    "\n",
    "1. Addition (+): To add two numbers, use the plus operator.\n",
    "   ```python\n",
    "   x = 5\n",
    "   y = 3\n",
    "   result = x + y\n",
    "   print(result)  # Output: 8\n",
    "   ```\n",
    "\n",
    "2. Subtraction (-): To subtract one number from another, use the minus operator.\n",
    "\n",
    "   ```python\n",
    "   x = 10\n",
    "   y = 4\n",
    "   result = x - y\n",
    "   print(result)  # Output: 6\n",
    "   ```\n",
    "\n",
    "3. Multiplication (*): To multiply two numbers, use the asterisk operator.\n",
    "\n",
    "   ```python\n",
    "   x = 6\n",
    "   y = 7\n",
    "   result = x * y\n",
    "   print(result)  # Output: 42\n",
    "   ```\n",
    "\n",
    "4. Division (/): To divide one number by another, use the forward slash operator.\n",
    "\n",
    "   ```python\n",
    "   x = 15\n",
    "   y = 3\n",
    "   result = x / y\n",
    "   print(result)  # Output: 5.0\n",
    "   ```\n",
    "\n",
    "5. Exponentiation (**): To raise a number to a certain power, use the double asterisk operator.\n",
    "\n",
    "   ```python\n",
    "   x = 2\n",
    "   y = 3\n",
    "   result = x ** y\n",
    "   print(result)  # Output: 8\n",
    "   ```\n",
    "\n",
    "6. Modulo (%): To obtain the remainder of a division, use the modulo operator.\n",
    "\n",
    "   ```python\n",
    "   x = 17\n",
    "   y = 5\n",
    "   result = x % y\n",
    "   print(result)  # Output: 2\n",
    "   ```\n",
    "\n",
    "These examples demonstrate basic arithmetic operations, but Python supports many more mathematical functions and operators that you can use to perform complex calculations."
   ]
  },
  {
   "cell_type": "code",
   "execution_count": 2,
   "id": "16eb7709",
   "metadata": {},
   "outputs": [
    {
     "name": "stdout",
     "output_type": "stream",
     "text": [
      "17\n"
     ]
    }
   ],
   "source": [
    "# This is a simple arithmetic expression to multiply then add integers\n",
    "result = (3 * 4) + 5\n",
    "print(result)  # Output: 17\n"
   ]
  },
  {
   "cell_type": "code",
   "execution_count": 3,
   "id": "d15f949f",
   "metadata": {},
   "outputs": [
    {
     "name": "stdout",
     "output_type": "stream",
     "text": [
      "3.3333333333333335\n"
     ]
    }
   ],
   "source": [
    "#This will convert miuntes into hours\n",
    "minutes=200\n",
    "hours=minutes/60\n",
    "print(hours)"
   ]
  },
  {
   "cell_type": "markdown",
   "id": "4a1a1c35",
   "metadata": {},
   "source": [
    "**Objectives:**\n",
    "\n",
    "- List popular languages for Data Science.\n",
    "- Explore commonly used tools in Data Science.\n",
    "- Introduce libraries for data manipulation and analysis.\n",
    "- Demonstrate examples of evaluating arithmetic expressions in Python.\n",
    "- Perform arithmetic operations using Python code.\n",
    "\n",
    "These are some of the key objectives covered in this notebook, focusing on topics such as popular languages for data science, essential tools used in the field, data manipulation and analysis libraries, evaluating arithmetic expressions, and performing arithmetic operations using Python."
   ]
  },
  {
   "cell_type": "markdown",
   "id": "83a365e3",
   "metadata": {},
   "source": [
    "## Author\n",
    "Rahul Sahu"
   ]
  },
  {
   "cell_type": "code",
   "execution_count": null,
   "id": "0ff475ae",
   "metadata": {},
   "outputs": [],
   "source": []
  },
  {
   "cell_type": "code",
   "execution_count": null,
   "id": "fd042fc1",
   "metadata": {},
   "outputs": [],
   "source": []
  }
 ],
 "metadata": {
  "kernelspec": {
   "display_name": "Python 3 (ipykernel)",
   "language": "python",
   "name": "python3"
  },
  "language_info": {
   "codemirror_mode": {
    "name": "ipython",
    "version": 3
   },
   "file_extension": ".py",
   "mimetype": "text/x-python",
   "name": "python",
   "nbconvert_exporter": "python",
   "pygments_lexer": "ipython3",
   "version": "3.10.9"
  }
 },
 "nbformat": 4,
 "nbformat_minor": 5
}
